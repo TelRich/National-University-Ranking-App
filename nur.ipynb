{
 "cells": [
  {
   "cell_type": "markdown",
   "metadata": {},
   "source": [
    "# National University Ranking\n",
    "\n",
    "![](images/2023-07-13-00-48-01.png)\n",
    "\n",
    "## Introduction\n",
    "\n",
    "## Reasearch Idea: \n",
    "### Developing a searchable database to help high school students identify colleges that match their criteria in terms of tuition, graduation rate, location, and rank."
   ]
  },
  {
   "cell_type": "markdown",
   "metadata": {},
   "source": [
    "ROUGH OUTLINE\n",
    "1. extract the state short code from location\n",
    "2. extract the year founded from description\n",
    "3. clean up the fees, in-state and enrollment columns\n",
    "4. clean up the columns names\n",
    "\n",
    "* 51 states\n",
    "\n",
    "5. seperate each state schools\n",
    "6. each state will be a table of it's own in the database for database optimization\n",
    "7. create a state table\n",
    "8. can rank school inside each state based on enrollment\n",
    "\n",
    "-- EDA\n",
    "\n",
    "9. Top school based on rank, tuition fees, instate fees, and enrollment\n",
    "10. Top 2 schools within 56 states\n",
    "11. oldest schools based on year founded\n",
    "12. oldest school within 51 states\n",
    "\n",
    "-- App interface\n",
    "\n",
    "13. A brief overview with visuals from top school based on rank (overall)\n",
    "14. selection box to select state. Once selected, brief overview with a visual of the top school in that state.\n",
    "* Overview will include details based on the available data like average tuition and top ranked school.\n",
    "15. Another section where we take in input from the user to recommend a movie within a choosen state.\n",
    "16. If no state is choosen, we recommend based on the user location, and closest state.\n",
    "* For closest state, we can do some resear to know which state is closer to each other (Feature engineering) \n",
    "\n",
    "## Objectives\n",
    "Outline breakdown\n",
    "\n",
    "### Data Cleaning: \n",
    "* Objective: Clean the data and feature engineer new columns\n",
    "* Tools: Python\n",
    "\n",
    "### EDA\n",
    "* Objective: Create visuals from the cleaned data\n",
    "* Tools: Power BI, Python\n",
    "\n",
    "### Database Engineers\n",
    "* Objective: Create the database and the schema. Views if possible\n",
    "* Tools: SQL\n",
    "\n",
    "### Project App\n",
    "* Objective: Create the user interface\n",
    "* Tools: Python, SQL, USer\n",
    "\n",
    "### Technical Writers\n",
    "* Objective: Document every process\n",
    "* Microsoft/Google Suites (Slide, Docs, Excel, etc)\n",
    "\n",
    "## Have a video meeting to discuss milestone achievement"
   ]
  },
  {
   "cell_type": "markdown",
   "metadata": {},
   "source": [
    "### Import Libraries"
   ]
  },
  {
   "cell_type": "code",
   "execution_count": 1,
   "metadata": {},
   "outputs": [],
   "source": [
    "import pandas as pd\n",
    "import plotly.express as px\n"
   ]
  },
  {
   "cell_type": "code",
   "execution_count": 2,
   "metadata": {},
   "outputs": [
    {
     "data": {
      "text/plain": [
       "(231, 7)"
      ]
     },
     "execution_count": 2,
     "metadata": {},
     "output_type": "execute_result"
    }
   ],
   "source": [
    "# Loading the dataset\n",
    "nur = pd.read_csv(\"dataset/National Universities Rankings.csv\", index_col=0)\n",
    "nur.shape"
   ]
  },
  {
   "cell_type": "code",
   "execution_count": 3,
   "metadata": {},
   "outputs": [
    {
     "data": {
      "text/html": [
       "<div>\n",
       "<style scoped>\n",
       "    .dataframe tbody tr th:only-of-type {\n",
       "        vertical-align: middle;\n",
       "    }\n",
       "\n",
       "    .dataframe tbody tr th {\n",
       "        vertical-align: top;\n",
       "    }\n",
       "\n",
       "    .dataframe thead th {\n",
       "        text-align: right;\n",
       "    }\n",
       "</style>\n",
       "<table border=\"1\" class=\"dataframe\">\n",
       "  <thead>\n",
       "    <tr style=\"text-align: right;\">\n",
       "      <th></th>\n",
       "      <th>Name</th>\n",
       "      <th>Location</th>\n",
       "      <th>Rank</th>\n",
       "      <th>Description</th>\n",
       "      <th>Tuition and fees</th>\n",
       "      <th>In-state</th>\n",
       "      <th>Undergrad Enrollment</th>\n",
       "    </tr>\n",
       "    <tr>\n",
       "      <th>index</th>\n",
       "      <th></th>\n",
       "      <th></th>\n",
       "      <th></th>\n",
       "      <th></th>\n",
       "      <th></th>\n",
       "      <th></th>\n",
       "      <th></th>\n",
       "    </tr>\n",
       "  </thead>\n",
       "  <tbody>\n",
       "    <tr>\n",
       "      <th>0</th>\n",
       "      <td>Princeton University</td>\n",
       "      <td>Princeton, NJ</td>\n",
       "      <td>1</td>\n",
       "      <td>Princeton, the fourth-oldest college in the Un...</td>\n",
       "      <td>$45,320</td>\n",
       "      <td>NaN</td>\n",
       "      <td>5,402</td>\n",
       "    </tr>\n",
       "    <tr>\n",
       "      <th>1</th>\n",
       "      <td>Harvard University</td>\n",
       "      <td>Cambridge, MA</td>\n",
       "      <td>2</td>\n",
       "      <td>Harvard is located in Cambridge, Massachusetts...</td>\n",
       "      <td>$47,074</td>\n",
       "      <td>NaN</td>\n",
       "      <td>6,699</td>\n",
       "    </tr>\n",
       "    <tr>\n",
       "      <th>2</th>\n",
       "      <td>University of Chicago</td>\n",
       "      <td>Chicago, IL</td>\n",
       "      <td>3</td>\n",
       "      <td>The University of Chicago, situated in Chicago...</td>\n",
       "      <td>$52,491</td>\n",
       "      <td>NaN</td>\n",
       "      <td>5,844</td>\n",
       "    </tr>\n",
       "    <tr>\n",
       "      <th>3</th>\n",
       "      <td>Yale University</td>\n",
       "      <td>New Haven, CT</td>\n",
       "      <td>3</td>\n",
       "      <td>Yale University, located in New Haven, Connect...</td>\n",
       "      <td>$49,480</td>\n",
       "      <td>NaN</td>\n",
       "      <td>5,532</td>\n",
       "    </tr>\n",
       "    <tr>\n",
       "      <th>4</th>\n",
       "      <td>Columbia University</td>\n",
       "      <td>New York, NY</td>\n",
       "      <td>5</td>\n",
       "      <td>Columbia University, located in Manhattan's Mo...</td>\n",
       "      <td>$55,056</td>\n",
       "      <td>NaN</td>\n",
       "      <td>6,102</td>\n",
       "    </tr>\n",
       "  </tbody>\n",
       "</table>\n",
       "</div>"
      ],
      "text/plain": [
       "                        Name       Location  Rank  \\\n",
       "index                                               \n",
       "0       Princeton University  Princeton, NJ     1   \n",
       "1         Harvard University  Cambridge, MA     2   \n",
       "2      University of Chicago    Chicago, IL     3   \n",
       "3            Yale University  New Haven, CT     3   \n",
       "4        Columbia University   New York, NY     5   \n",
       "\n",
       "                                             Description Tuition and fees  \\\n",
       "index                                                                       \n",
       "0      Princeton, the fourth-oldest college in the Un...         $45,320    \n",
       "1      Harvard is located in Cambridge, Massachusetts...         $47,074    \n",
       "2      The University of Chicago, situated in Chicago...         $52,491    \n",
       "3      Yale University, located in New Haven, Connect...         $49,480    \n",
       "4      Columbia University, located in Manhattan's Mo...         $55,056    \n",
       "\n",
       "      In-state Undergrad Enrollment  \n",
       "index                                \n",
       "0          NaN                5,402  \n",
       "1          NaN                6,699  \n",
       "2          NaN                5,844  \n",
       "3          NaN                5,532  \n",
       "4          NaN                6,102  "
      ]
     },
     "execution_count": 3,
     "metadata": {},
     "output_type": "execute_result"
    }
   ],
   "source": [
    "nur.head()"
   ]
  },
  {
   "cell_type": "code",
   "execution_count": 4,
   "metadata": {},
   "outputs": [],
   "source": [
    "df_nur = nur.copy()"
   ]
  },
  {
   "cell_type": "code",
   "execution_count": 5,
   "metadata": {
    "scrolled": true
   },
   "outputs": [
    {
     "name": "stderr",
     "output_type": "stream",
     "text": [
      "/tmp/ipykernel_5376/3096994647.py:3: FutureWarning: The default value of regex will change from True to False in a future version. In addition, single character regular expressions will *not* be treated as literal strings when regex=True.\n",
      "  df_nur['Tuition and fees'] = df_nur['Tuition and fees'].str.replace('$', '').str.replace(',', '')\n"
     ]
    }
   ],
   "source": [
    "# Promise\n",
    "# Remove the dollar sign ($) and comma\n",
    "df_nur['Tuition and fees'] = df_nur['Tuition and fees'].str.replace('$', '').str.replace(',', '')\n",
    "\n",
    "# convert the column datatype to integer\n",
    "df_nur['Tuition and fees'] = df_nur['Tuition and fees'].fillna('0').astype(int)"
   ]
  },
  {
   "cell_type": "code",
   "execution_count": 6,
   "metadata": {},
   "outputs": [],
   "source": [
    "# precious\n",
    "# data cleaning by replacing ',' with '' and converting column to integer\n",
    "df_nur['Undergrad Enrollment'] = df_nur['Undergrad Enrollment'].str.replace(',','').astype('int')"
   ]
  },
  {
   "cell_type": "code",
   "execution_count": 7,
   "metadata": {},
   "outputs": [
    {
     "data": {
      "text/html": [
       "<div>\n",
       "<style scoped>\n",
       "    .dataframe tbody tr th:only-of-type {\n",
       "        vertical-align: middle;\n",
       "    }\n",
       "\n",
       "    .dataframe tbody tr th {\n",
       "        vertical-align: top;\n",
       "    }\n",
       "\n",
       "    .dataframe thead th {\n",
       "        text-align: right;\n",
       "    }\n",
       "</style>\n",
       "<table border=\"1\" class=\"dataframe\">\n",
       "  <thead>\n",
       "    <tr style=\"text-align: right;\">\n",
       "      <th></th>\n",
       "      <th>name</th>\n",
       "      <th>location</th>\n",
       "      <th>rank</th>\n",
       "      <th>description</th>\n",
       "      <th>tuition_and_fees</th>\n",
       "      <th>in_state</th>\n",
       "      <th>Undergrad Enrollment</th>\n",
       "    </tr>\n",
       "    <tr>\n",
       "      <th>index</th>\n",
       "      <th></th>\n",
       "      <th></th>\n",
       "      <th></th>\n",
       "      <th></th>\n",
       "      <th></th>\n",
       "      <th></th>\n",
       "      <th></th>\n",
       "    </tr>\n",
       "  </thead>\n",
       "  <tbody>\n",
       "    <tr>\n",
       "      <th>0</th>\n",
       "      <td>Princeton University</td>\n",
       "      <td>Princeton, NJ</td>\n",
       "      <td>1</td>\n",
       "      <td>Princeton, the fourth-oldest college in the Un...</td>\n",
       "      <td>45320</td>\n",
       "      <td>NaN</td>\n",
       "      <td>5402</td>\n",
       "    </tr>\n",
       "    <tr>\n",
       "      <th>1</th>\n",
       "      <td>Harvard University</td>\n",
       "      <td>Cambridge, MA</td>\n",
       "      <td>2</td>\n",
       "      <td>Harvard is located in Cambridge, Massachusetts...</td>\n",
       "      <td>47074</td>\n",
       "      <td>NaN</td>\n",
       "      <td>6699</td>\n",
       "    </tr>\n",
       "    <tr>\n",
       "      <th>2</th>\n",
       "      <td>University of Chicago</td>\n",
       "      <td>Chicago, IL</td>\n",
       "      <td>3</td>\n",
       "      <td>The University of Chicago, situated in Chicago...</td>\n",
       "      <td>52491</td>\n",
       "      <td>NaN</td>\n",
       "      <td>5844</td>\n",
       "    </tr>\n",
       "    <tr>\n",
       "      <th>3</th>\n",
       "      <td>Yale University</td>\n",
       "      <td>New Haven, CT</td>\n",
       "      <td>3</td>\n",
       "      <td>Yale University, located in New Haven, Connect...</td>\n",
       "      <td>49480</td>\n",
       "      <td>NaN</td>\n",
       "      <td>5532</td>\n",
       "    </tr>\n",
       "    <tr>\n",
       "      <th>4</th>\n",
       "      <td>Columbia University</td>\n",
       "      <td>New York, NY</td>\n",
       "      <td>5</td>\n",
       "      <td>Columbia University, located in Manhattan's Mo...</td>\n",
       "      <td>55056</td>\n",
       "      <td>NaN</td>\n",
       "      <td>6102</td>\n",
       "    </tr>\n",
       "  </tbody>\n",
       "</table>\n",
       "</div>"
      ],
      "text/plain": [
       "                        name       location  rank  \\\n",
       "index                                               \n",
       "0       Princeton University  Princeton, NJ     1   \n",
       "1         Harvard University  Cambridge, MA     2   \n",
       "2      University of Chicago    Chicago, IL     3   \n",
       "3            Yale University  New Haven, CT     3   \n",
       "4        Columbia University   New York, NY     5   \n",
       "\n",
       "                                             description  tuition_and_fees  \\\n",
       "index                                                                        \n",
       "0      Princeton, the fourth-oldest college in the Un...             45320   \n",
       "1      Harvard is located in Cambridge, Massachusetts...             47074   \n",
       "2      The University of Chicago, situated in Chicago...             52491   \n",
       "3      Yale University, located in New Haven, Connect...             49480   \n",
       "4      Columbia University, located in Manhattan's Mo...             55056   \n",
       "\n",
       "      in_state  Undergrad Enrollment  \n",
       "index                                 \n",
       "0          NaN                  5402  \n",
       "1          NaN                  6699  \n",
       "2          NaN                  5844  \n",
       "3          NaN                  5532  \n",
       "4          NaN                  6102  "
      ]
     },
     "execution_count": 7,
     "metadata": {},
     "output_type": "execute_result"
    }
   ],
   "source": [
    "#Olufemilite\n",
    "#Changing column headers to lower case and changing spaces to underscore\n",
    "df_nur.rename(columns={\"Name\":\"name\",\"Location\":\"location\",\"Rank\":\"rank\",\"Description\":\"description\",\n",
    "                       \"Tuition and fees\":\"tuition_and_fees\",\"In-state\":\"in_state\",\"Undergrad enrollment\":\"undergrad_enrollment\"}, inplace=True)\n",
    "df_nur.head()"
   ]
  },
  {
   "cell_type": "code",
   "execution_count": 8,
   "metadata": {},
   "outputs": [
    {
     "data": {
      "text/html": [
       "<div>\n",
       "<style scoped>\n",
       "    .dataframe tbody tr th:only-of-type {\n",
       "        vertical-align: middle;\n",
       "    }\n",
       "\n",
       "    .dataframe tbody tr th {\n",
       "        vertical-align: top;\n",
       "    }\n",
       "\n",
       "    .dataframe thead th {\n",
       "        text-align: right;\n",
       "    }\n",
       "</style>\n",
       "<table border=\"1\" class=\"dataframe\">\n",
       "  <thead>\n",
       "    <tr style=\"text-align: right;\">\n",
       "      <th></th>\n",
       "      <th>name</th>\n",
       "      <th>location</th>\n",
       "      <th>rank</th>\n",
       "      <th>description</th>\n",
       "      <th>tuition_and_fees</th>\n",
       "      <th>in_state</th>\n",
       "      <th>Undergrad Enrollment</th>\n",
       "    </tr>\n",
       "    <tr>\n",
       "      <th>index</th>\n",
       "      <th></th>\n",
       "      <th></th>\n",
       "      <th></th>\n",
       "      <th></th>\n",
       "      <th></th>\n",
       "      <th></th>\n",
       "      <th></th>\n",
       "    </tr>\n",
       "  </thead>\n",
       "  <tbody>\n",
       "    <tr>\n",
       "      <th>0</th>\n",
       "      <td>Princeton University</td>\n",
       "      <td>Princeton, NJ</td>\n",
       "      <td>1</td>\n",
       "      <td>Princeton, the fourth-oldest college in the Un...</td>\n",
       "      <td>45320</td>\n",
       "      <td>NaN</td>\n",
       "      <td>5402</td>\n",
       "    </tr>\n",
       "    <tr>\n",
       "      <th>1</th>\n",
       "      <td>Harvard University</td>\n",
       "      <td>Cambridge, MA</td>\n",
       "      <td>2</td>\n",
       "      <td>Harvard is located in Cambridge, Massachusetts...</td>\n",
       "      <td>47074</td>\n",
       "      <td>NaN</td>\n",
       "      <td>6699</td>\n",
       "    </tr>\n",
       "    <tr>\n",
       "      <th>2</th>\n",
       "      <td>University of Chicago</td>\n",
       "      <td>Chicago, IL</td>\n",
       "      <td>3</td>\n",
       "      <td>The University of Chicago, situated in Chicago...</td>\n",
       "      <td>52491</td>\n",
       "      <td>NaN</td>\n",
       "      <td>5844</td>\n",
       "    </tr>\n",
       "    <tr>\n",
       "      <th>3</th>\n",
       "      <td>Yale University</td>\n",
       "      <td>New Haven, CT</td>\n",
       "      <td>3</td>\n",
       "      <td>Yale University, located in New Haven, Connect...</td>\n",
       "      <td>49480</td>\n",
       "      <td>NaN</td>\n",
       "      <td>5532</td>\n",
       "    </tr>\n",
       "    <tr>\n",
       "      <th>4</th>\n",
       "      <td>Columbia University</td>\n",
       "      <td>New York, NY</td>\n",
       "      <td>5</td>\n",
       "      <td>Columbia University, located in Manhattan's Mo...</td>\n",
       "      <td>55056</td>\n",
       "      <td>NaN</td>\n",
       "      <td>6102</td>\n",
       "    </tr>\n",
       "  </tbody>\n",
       "</table>\n",
       "</div>"
      ],
      "text/plain": [
       "                        name       location  rank  \\\n",
       "index                                               \n",
       "0       Princeton University  Princeton, NJ     1   \n",
       "1         Harvard University  Cambridge, MA     2   \n",
       "2      University of Chicago    Chicago, IL     3   \n",
       "3            Yale University  New Haven, CT     3   \n",
       "4        Columbia University   New York, NY     5   \n",
       "\n",
       "                                             description  tuition_and_fees  \\\n",
       "index                                                                        \n",
       "0      Princeton, the fourth-oldest college in the Un...             45320   \n",
       "1      Harvard is located in Cambridge, Massachusetts...             47074   \n",
       "2      The University of Chicago, situated in Chicago...             52491   \n",
       "3      Yale University, located in New Haven, Connect...             49480   \n",
       "4      Columbia University, located in Manhattan's Mo...             55056   \n",
       "\n",
       "      in_state  Undergrad Enrollment  \n",
       "index                                 \n",
       "0          NaN                  5402  \n",
       "1          NaN                  6699  \n",
       "2          NaN                  5844  \n",
       "3          NaN                  5532  \n",
       "4          NaN                  6102  "
      ]
     },
     "execution_count": 8,
     "metadata": {},
     "output_type": "execute_result"
    }
   ],
   "source": [
    "df_nur.head()"
   ]
  },
  {
   "cell_type": "code",
   "execution_count": 9,
   "metadata": {},
   "outputs": [
    {
     "data": {
      "text/plain": [
       "array([' NJ', ' MA', ' IL', ' CT', ' NY', ' CA', ' NC', ' PA', ' MD',\n",
       "       ' NH', ' RI', ' TX', ' IN', ' TN', ' MO', ' GA', ' DC', ' VA',\n",
       "       ' MI', ' OH', ' LA', ' FL', ' WI', ' WA', ' SC', ' UT', ' MN',\n",
       "       ' DE', ' CO', ' IA', ' OK', ' VT', ' AL', ' OR', ' NE', ' KS',\n",
       "       ' AZ', ' KY', ' AR', ' MS', ' HI', ' ID', ' WY', ' NM', ' ME',\n",
       "       ' WV', ' ND', ' NV', ' SD', ' AK', ' MT'], dtype=object)"
      ]
     },
     "execution_count": 9,
     "metadata": {},
     "output_type": "execute_result"
    }
   ],
   "source": [
    "nur['Location'].apply(lambda x: x.split(',')[1]).unique()"
   ]
  },
  {
   "cell_type": "code",
   "execution_count": 10,
   "metadata": {},
   "outputs": [
    {
     "data": {
      "text/plain": [
       "51"
      ]
     },
     "execution_count": 10,
     "metadata": {},
     "output_type": "execute_result"
    }
   ],
   "source": [
    "len(nur['Location'].apply(lambda x: x.split(',')[1]).unique())"
   ]
  },
  {
   "cell_type": "code",
   "execution_count": 11,
   "metadata": {},
   "outputs": [
    {
     "data": {
      "text/plain": [
       "name                    object\n",
       "location                object\n",
       "rank                     int64\n",
       "description             object\n",
       "tuition_and_fees         int64\n",
       "in_state                object\n",
       "Undergrad Enrollment     int64\n",
       "dtype: object"
      ]
     },
     "execution_count": 11,
     "metadata": {},
     "output_type": "execute_result"
    }
   ],
   "source": [
    "df_nur.dtypes"
   ]
  },
  {
   "cell_type": "code",
   "execution_count": 12,
   "metadata": {},
   "outputs": [
    {
     "data": {
      "text/plain": [
       "name                     0\n",
       "location                 0\n",
       "rank                     0\n",
       "description              0\n",
       "tuition_and_fees         0\n",
       "in_state                98\n",
       "Undergrad Enrollment     0\n",
       "dtype: int64"
      ]
     },
     "execution_count": 12,
     "metadata": {},
     "output_type": "execute_result"
    }
   ],
   "source": [
    "df_nur.isna().sum()"
   ]
  },
  {
   "cell_type": "markdown",
   "metadata": {},
   "source": [
    "### Cleaning the undergraduate enrollment column"
   ]
  },
  {
   "cell_type": "code",
   "execution_count": 13,
   "metadata": {},
   "outputs": [],
   "source": [
    "# create a copy of dataframe\n",
    "df_nur = nur.copy()"
   ]
  },
  {
   "cell_type": "code",
   "execution_count": 14,
   "metadata": {},
   "outputs": [
    {
     "data": {
      "text/html": [
       "<div>\n",
       "<style scoped>\n",
       "    .dataframe tbody tr th:only-of-type {\n",
       "        vertical-align: middle;\n",
       "    }\n",
       "\n",
       "    .dataframe tbody tr th {\n",
       "        vertical-align: top;\n",
       "    }\n",
       "\n",
       "    .dataframe thead th {\n",
       "        text-align: right;\n",
       "    }\n",
       "</style>\n",
       "<table border=\"1\" class=\"dataframe\">\n",
       "  <thead>\n",
       "    <tr style=\"text-align: right;\">\n",
       "      <th></th>\n",
       "      <th>Name</th>\n",
       "      <th>Location</th>\n",
       "      <th>Rank</th>\n",
       "      <th>Description</th>\n",
       "      <th>Tuition and fees</th>\n",
       "      <th>In-state</th>\n",
       "      <th>Undergrad Enrollment</th>\n",
       "    </tr>\n",
       "    <tr>\n",
       "      <th>index</th>\n",
       "      <th></th>\n",
       "      <th></th>\n",
       "      <th></th>\n",
       "      <th></th>\n",
       "      <th></th>\n",
       "      <th></th>\n",
       "      <th></th>\n",
       "    </tr>\n",
       "  </thead>\n",
       "  <tbody>\n",
       "    <tr>\n",
       "      <th>0</th>\n",
       "      <td>Princeton University</td>\n",
       "      <td>Princeton, NJ</td>\n",
       "      <td>1</td>\n",
       "      <td>Princeton, the fourth-oldest college in the Un...</td>\n",
       "      <td>$45,320</td>\n",
       "      <td>NaN</td>\n",
       "      <td>5,402</td>\n",
       "    </tr>\n",
       "  </tbody>\n",
       "</table>\n",
       "</div>"
      ],
      "text/plain": [
       "                       Name       Location  Rank  \\\n",
       "index                                              \n",
       "0      Princeton University  Princeton, NJ     1   \n",
       "\n",
       "                                             Description Tuition and fees  \\\n",
       "index                                                                       \n",
       "0      Princeton, the fourth-oldest college in the Un...         $45,320    \n",
       "\n",
       "      In-state Undergrad Enrollment  \n",
       "index                                \n",
       "0          NaN                5,402  "
      ]
     },
     "execution_count": 14,
     "metadata": {},
     "output_type": "execute_result"
    }
   ],
   "source": [
    "# access dataframe\n",
    "df_nur.head(1)"
   ]
  },
  {
   "cell_type": "code",
   "execution_count": 15,
   "metadata": {},
   "outputs": [
    {
     "data": {
      "text/plain": [
       "Name                    object\n",
       "Location                object\n",
       "Rank                     int64\n",
       "Description             object\n",
       "Tuition and fees        object\n",
       "In-state                object\n",
       "Undergrad Enrollment    object\n",
       "dtype: object"
      ]
     },
     "execution_count": 15,
     "metadata": {},
     "output_type": "execute_result"
    }
   ],
   "source": [
    "# access datatype\n",
    "df_nur.dtypes"
   ]
  },
  {
   "cell_type": "code",
   "execution_count": 16,
   "metadata": {},
   "outputs": [],
   "source": [
    "# data cleaning by replacing ',' with '' and converting column to integer\n",
    "df_nur['Undergrad Enrollment'] = df_nur['Undergrad Enrollment'].str.replace(',','').astype('int')"
   ]
  },
  {
   "cell_type": "code",
   "execution_count": 17,
   "metadata": {},
   "outputs": [
    {
     "data": {
      "text/html": [
       "<div>\n",
       "<style scoped>\n",
       "    .dataframe tbody tr th:only-of-type {\n",
       "        vertical-align: middle;\n",
       "    }\n",
       "\n",
       "    .dataframe tbody tr th {\n",
       "        vertical-align: top;\n",
       "    }\n",
       "\n",
       "    .dataframe thead th {\n",
       "        text-align: right;\n",
       "    }\n",
       "</style>\n",
       "<table border=\"1\" class=\"dataframe\">\n",
       "  <thead>\n",
       "    <tr style=\"text-align: right;\">\n",
       "      <th></th>\n",
       "      <th>Name</th>\n",
       "      <th>Location</th>\n",
       "      <th>Rank</th>\n",
       "      <th>Description</th>\n",
       "      <th>Tuition and fees</th>\n",
       "      <th>In-state</th>\n",
       "      <th>Undergrad Enrollment</th>\n",
       "    </tr>\n",
       "    <tr>\n",
       "      <th>index</th>\n",
       "      <th></th>\n",
       "      <th></th>\n",
       "      <th></th>\n",
       "      <th></th>\n",
       "      <th></th>\n",
       "      <th></th>\n",
       "      <th></th>\n",
       "    </tr>\n",
       "  </thead>\n",
       "  <tbody>\n",
       "    <tr>\n",
       "      <th>222</th>\n",
       "      <td>New Mexico State University</td>\n",
       "      <td>Las Cruces, NM</td>\n",
       "      <td>220</td>\n",
       "      <td>There are five New Mexico State University loc...</td>\n",
       "      <td>$21,234</td>\n",
       "      <td>$6,729</td>\n",
       "      <td>12526</td>\n",
       "    </tr>\n",
       "    <tr>\n",
       "      <th>48</th>\n",
       "      <td>University of Wisconsin--Madison</td>\n",
       "      <td>Madison, WI</td>\n",
       "      <td>44</td>\n",
       "      <td>The University of Wisconsin--Madison lies alon...</td>\n",
       "      <td>$32,738</td>\n",
       "      <td>$10,488</td>\n",
       "      <td>31662</td>\n",
       "    </tr>\n",
       "    <tr>\n",
       "      <th>192</th>\n",
       "      <td>University of Hartford</td>\n",
       "      <td>West Hartford, CT</td>\n",
       "      <td>188</td>\n",
       "      <td>The University of Hartford, also known as UHar...</td>\n",
       "      <td>$37,790</td>\n",
       "      <td>NaN</td>\n",
       "      <td>5246</td>\n",
       "    </tr>\n",
       "    <tr>\n",
       "      <th>124</th>\n",
       "      <td>DePaul University</td>\n",
       "      <td>Chicago, IL</td>\n",
       "      <td>124</td>\n",
       "      <td>DePaul University has five campuses in and aro...</td>\n",
       "      <td>$37,626</td>\n",
       "      <td>NaN</td>\n",
       "      <td>15961</td>\n",
       "    </tr>\n",
       "    <tr>\n",
       "      <th>89</th>\n",
       "      <td>University of San Diego</td>\n",
       "      <td>San Diego, CA</td>\n",
       "      <td>86</td>\n",
       "      <td>The University of San Diego is a Roman Catholi...</td>\n",
       "      <td>$46,140</td>\n",
       "      <td>NaN</td>\n",
       "      <td>5647</td>\n",
       "    </tr>\n",
       "  </tbody>\n",
       "</table>\n",
       "</div>"
      ],
      "text/plain": [
       "                                   Name           Location  Rank  \\\n",
       "index                                                              \n",
       "222         New Mexico State University     Las Cruces, NM   220   \n",
       "48     University of Wisconsin--Madison        Madison, WI    44   \n",
       "192              University of Hartford  West Hartford, CT   188   \n",
       "124                   DePaul University        Chicago, IL   124   \n",
       "89              University of San Diego      San Diego, CA    86   \n",
       "\n",
       "                                             Description Tuition and fees  \\\n",
       "index                                                                       \n",
       "222    There are five New Mexico State University loc...         $21,234    \n",
       "48     The University of Wisconsin--Madison lies alon...         $32,738    \n",
       "192    The University of Hartford, also known as UHar...         $37,790    \n",
       "124    DePaul University has five campuses in and aro...         $37,626    \n",
       "89     The University of San Diego is a Roman Catholi...         $46,140    \n",
       "\n",
       "       In-state  Undergrad Enrollment  \n",
       "index                                  \n",
       "222     $6,729                  12526  \n",
       "48     $10,488                  31662  \n",
       "192         NaN                  5246  \n",
       "124         NaN                 15961  \n",
       "89          NaN                  5647  "
      ]
     },
     "execution_count": 17,
     "metadata": {},
     "output_type": "execute_result"
    }
   ],
   "source": [
    "# check\n",
    "df_nur.sample(5)"
   ]
  },
  {
   "cell_type": "code",
   "execution_count": 18,
   "metadata": {},
   "outputs": [
    {
     "data": {
      "text/plain": [
       "Name                    object\n",
       "Location                object\n",
       "Rank                     int64\n",
       "Description             object\n",
       "Tuition and fees        object\n",
       "In-state                object\n",
       "Undergrad Enrollment     int64\n",
       "dtype: object"
      ]
     },
     "execution_count": 18,
     "metadata": {},
     "output_type": "execute_result"
    }
   ],
   "source": [
    "# check\n",
    "df_nur.dtypes"
   ]
  },
  {
   "cell_type": "code",
   "execution_count": 19,
   "metadata": {},
   "outputs": [
    {
     "data": {
      "text/plain": [
       "index\n",
       "0            Princeton, NJ\n",
       "1            Cambridge, MA\n",
       "2              Chicago, IL\n",
       "3            New Haven, CT\n",
       "4             New York, NY\n",
       "              ...         \n",
       "226    North Dartmouth, MA\n",
       "227          St. Louis, MO\n",
       "228         Greensboro, NC\n",
       "229        Hattiesburg, MS\n",
       "230              Logan, UT\n",
       "Name: Location, Length: 231, dtype: object"
      ]
     },
     "execution_count": 19,
     "metadata": {},
     "output_type": "execute_result"
    }
   ],
   "source": [
    "df_nur['Location']"
   ]
  },
  {
   "cell_type": "code",
   "execution_count": 20,
   "metadata": {},
   "outputs": [],
   "source": [
    "# Function to extract the state name from the given format (e.g., 'Boston, MA')\n",
    "def get_state_name(location):\n",
    "    return location.split(',')[0].strip()\n",
    "\n",
    "def get_state_code(location):\n",
    "    return location.split(',')[1].strip()"
   ]
  },
  {
   "cell_type": "code",
   "execution_count": 21,
   "metadata": {},
   "outputs": [],
   "source": [
    "# Map state names to regions and create the 'region' column\n",
    "df_nur['State Name'] = df_nur['Location'].apply(get_state_name)\n",
    "\n",
    "df_nur['State Code'] = df_nur['Location'].apply(get_state_code)"
   ]
  },
  {
   "cell_type": "code",
   "execution_count": 22,
   "metadata": {
    "scrolled": true
   },
   "outputs": [
    {
     "data": {
      "text/plain": [
       "index\n",
       "0            Princeton\n",
       "1            Cambridge\n",
       "2              Chicago\n",
       "3            New Haven\n",
       "4             New York\n",
       "            ...       \n",
       "226    North Dartmouth\n",
       "227          St. Louis\n",
       "228         Greensboro\n",
       "229        Hattiesburg\n",
       "230              Logan\n",
       "Name: State Name, Length: 231, dtype: object"
      ]
     },
     "execution_count": 22,
     "metadata": {},
     "output_type": "execute_result"
    }
   ],
   "source": [
    "df_nur['State Name']"
   ]
  },
  {
   "cell_type": "code",
   "execution_count": 23,
   "metadata": {},
   "outputs": [
    {
     "data": {
      "text/plain": [
       "index\n",
       "0      NJ\n",
       "1      MA\n",
       "2      IL\n",
       "3      CT\n",
       "4      NY\n",
       "       ..\n",
       "226    MA\n",
       "227    MO\n",
       "228    NC\n",
       "229    MS\n",
       "230    UT\n",
       "Name: State Code, Length: 231, dtype: object"
      ]
     },
     "execution_count": 23,
     "metadata": {},
     "output_type": "execute_result"
    }
   ],
   "source": [
    "df_nur['State Code']"
   ]
  },
  {
   "cell_type": "code",
   "execution_count": 24,
   "metadata": {},
   "outputs": [],
   "source": [
    "pd.set_option('display.max_columns', None)"
   ]
  },
  {
   "cell_type": "code",
   "execution_count": 25,
   "metadata": {},
   "outputs": [],
   "source": [
    "state_name =df_nur['State Name'].values.tolist()"
   ]
  },
  {
   "cell_type": "code",
   "execution_count": 26,
   "metadata": {},
   "outputs": [
    {
     "name": "stdout",
     "output_type": "stream",
     "text": [
      "['Princeton', 'Cambridge', 'Chicago', 'New Haven', 'New York', 'Stanford', 'Cambridge', 'Durham', 'Philadelphia', 'Baltimore', 'Hanover', 'Pasadena', 'Evanston', 'Providence', 'Ithaca', 'Houston', 'Notre Dame', 'Nashville', 'St. Louis', 'Atlanta', 'Washington', 'Berkeley', 'Los Angeles', 'Pittsburgh', 'Los Angeles', 'Charlottesville', 'Medford', 'Ann Arbor', 'Winston-Salem', 'Chapel Hill', 'Chestnut Hill', 'Williamsburg', 'Rochester', 'Waltham', 'Atlanta', 'New York', 'Cleveland', 'Santa Barbara', 'Boston', 'Boston', 'Troy', 'New Orleans', 'Irvine', 'Bethlehem', 'Davis', 'La Jolla', 'Champaign', 'Coral Gables', 'Madison', 'Malibu', 'Gainesville', 'Villanova', 'University Park', 'Columbus', 'Seattle', 'Washington', 'Dallas', 'Athens', 'Austin', 'New York', 'West Lafayette', 'Syracuse', 'Storrs', 'College Park', 'Worcester', 'Clemson', 'New York', 'Provo', 'Pittsburgh', 'Piscataway', 'Waco', 'Hoboken', 'Minneapolis', 'Washington', 'Worcester', 'College Station', 'Amherst', 'Blacksburg', 'Oxford', 'Santa Cruz', 'Newark', 'Golden', 'East Lansing', 'Fort Worth', 'Iowa City', 'Binghamton', 'Bloomington', 'Milwaukee', 'Denver', 'San Diego', 'Tulsa', 'Tallahassee', 'Raleigh', 'Boulder', 'Burlington', 'Philadelphia', 'St. Louis', 'Stony Brook', 'Auburn', 'Chicago', 'Syracuse', 'Buffalo', 'Chicago', 'Tuscaloosa', 'Eugene', 'Knoxville', 'Rochester', 'Durham', 'San Francisco', 'Columbia', 'Ames', 'Dayton', 'Columbia', 'Lincoln', 'Norman', 'Stockton', 'Salt Lake City', 'Houghton', 'South Orange', 'Philadelphia', 'Riverside', 'Lawrence', 'St. Paul', 'Washington', 'Chicago', 'Pittsburgh', 'Washington', 'Tucson', 'Tempe', 'Potsdam', 'Fort Collins', 'New York', 'Hempstead', 'Lexington', 'Manhattan', 'Baton Rouge', 'Macon', 'Newark', 'Newark', 'Fayetteville', 'Cincinnati', 'University', 'Fairfax', 'Corvallis', 'Pullman', 'Garden City', 'Athens', 'San Diego', 'Rochester', 'Albany', 'Richardson', 'Normal', 'Immaculata', 'Stillwater', 'Merced', 'Chicago', 'La Verne', 'Lowell', 'Seattle', 'Birmingham', 'Baltimore', 'Kingston', 'Tampa', 'La Mirada', 'St Louis', 'Rolla', 'Queens', 'Richmond', 'Jackson', 'Honolulu', 'Madison', 'Melbourne', 'Moscow', 'Louisville', 'Laramie', 'Muncie', 'Nashville', 'Mississippi State', 'Montclair', 'Lubbock', 'Orlando', 'Albuquerque', 'Berrien Springs', 'Azusa', 'Orono', 'Morgantown', 'Chester', 'Kent', 'Fargo', 'New York', 'Moon Township', 'Boston', 'West Hartford', 'Bowling Green', 'Houston', 'Kalamazoo', 'Indianapolis', 'Cambridge', 'Huntsville', 'Denver', 'Reno', 'Fullerton', 'Mount Pleasant', 'Ruston', 'Brookings', 'Fairbanks', 'Charlotte', 'Grand Forks', 'Vermillion', 'Greenville', 'Bozeman', 'Norfolk', 'Kansas City', 'Ashland', 'Dallas', 'DeKalb', 'Ft. Lauderdale', 'Carbondale', 'Missoula', 'Lisle', 'Fresno', 'Boiling Springs', 'Las Cruces', 'Winchester', 'Cookeville', 'Boston', 'North Dartmouth', 'St. Louis', 'Greensboro', 'Hattiesburg', 'Logan']\n"
     ]
    }
   ],
   "source": [
    "print(state_name)"
   ]
  },
  {
   "cell_type": "code",
   "execution_count": 28,
   "metadata": {},
   "outputs": [],
   "source": [
    "# Dictionary to map state names to regions\n",
    "state_to_region = {\n",
    "    'Princeton': 'Northeast',\n",
    "    'Cambridge': 'Northeast',\n",
    "    'Chicago': 'Midwest',\n",
    "    'New Haven': 'Northeast',\n",
    "    'New York': 'Northeast',\n",
    "    'Stanford': 'West',\n",
    "    'Durham': 'South',\n",
    "    'Philadelphia': 'Northeast',\n",
    "    'Baltimore': 'South',\n",
    "    'Hanover': 'Northeast',\n",
    "    'Pasadena': 'West',\n",
    "    'Evanston': 'Midwest',\n",
    "    'Providence': 'Northeast',\n",
    "    'Ithaca': 'Northeast',\n",
    "    'Houston': 'South',\n",
    "    'Notre Dame': 'Midwest',\n",
    "    'Nashville': 'South',\n",
    "    'St. Louis': 'Midwest',\n",
    "    'Atlanta': 'South',\n",
    "    'Washington': 'South',\n",
    "    'Berkeley': 'West',\n",
    "    'Los Angeles': 'West',\n",
    "    'Pittsburgh': 'Northeast',\n",
    "    'Charlottesville': 'South',\n",
    "    'Medford': 'Northeast',\n",
    "    'Ann Arbor': 'Midwest',\n",
    "    'Winston-Salem': 'South',\n",
    "    'Chapel Hill': 'South',\n",
    "    'Chestnut Hill': 'Northeast',\n",
    "    'Williamsburg': 'South',\n",
    "    'Rochester': 'Northeast',\n",
    "    'Waltham': 'Northeast',\n",
    "    'Cleveland': 'Midwest',\n",
    "    'Santa Barbara': 'West',\n",
    "    'Boston': 'Northeast',\n",
    "    'Troy': 'Northeast',\n",
    "    'New Orleans': 'South',\n",
    "    'Irvine': 'West',\n",
    "    'Bethlehem': 'Northeast',\n",
    "    'Davis': 'West',\n",
    "    'La Jolla': 'West',\n",
    "    'Champaign': 'Midwest',\n",
    "    'Coral Gables': 'South',\n",
    "    'Madison': 'Midwest',\n",
    "    'Malibu': 'West',\n",
    "    'Gainesville': 'South',\n",
    "    'Villanova': 'Northeast',\n",
    "    'University Park': 'Northeast',\n",
    "    'Columbus': 'Midwest',\n",
    "    'Seattle': 'West',\n",
    "    'Dallas': 'South',\n",
    "    'Athens': 'South',\n",
    "    'Austin': 'South',\n",
    "    'West Lafayette': 'Midwest',\n",
    "    'Syracuse': 'Northeast',\n",
    "    'Storrs': 'Northeast',\n",
    "    'College Park': 'Northeast',\n",
    "    'Worcester': 'Northeast',\n",
    "    'Clemson': 'South',\n",
    "    'Provo': 'West',\n",
    "    'Piscataway': 'Northeast',\n",
    "    'Waco': 'South',\n",
    "    'Hoboken': 'Northeast',\n",
    "    'Minneapolis': 'Midwest',\n",
    "    'College Station': 'South',\n",
    "    'Amherst': 'Northeast',\n",
    "    'Blacksburg': 'South',\n",
    "    'Oxford': 'South',\n",
    "    'Santa Cruz': 'West',\n",
    "    'Newark': 'Northeast',\n",
    "    'Golden': 'West',\n",
    "    'East Lansing': 'Midwest',\n",
    "    'Fort Worth': 'South',\n",
    "    'Iowa City': 'Midwest',\n",
    "    'Binghamton': 'Northeast',\n",
    "    'Bloomington': 'Midwest',\n",
    "    'Milwaukee': 'Midwest',\n",
    "    'Denver': 'West',\n",
    "    'San Diego': 'West',\n",
    "    'Tulsa': 'South',\n",
    "    'Tallahassee': 'South',\n",
    "    'Raleigh': 'South',\n",
    "    'Boulder': 'West',\n",
    "    'Burlington': 'Northeast',\n",
    "    'Stony Brook': 'Northeast',\n",
    "    'Auburn': 'South',\n",
    "    'Tuscaloosa': 'South',\n",
    "    'Eugene': 'West',\n",
    "    'Knoxville': 'South',\n",
    "    'San Francisco': 'West',\n",
    "    'Columbia': 'Northeast',\n",
    "    'Ames': 'Midwest',\n",
    "    'Dayton': 'Northeast',\n",
    "    'Lincoln': 'Midwest',\n",
    "    'Norman': 'South',\n",
    "    'Stockton': 'West',\n",
    "    'Salt Lake City': 'West',\n",
    "    'Houghton': 'Midwest',\n",
    "    'South Orange': 'Northeast',\n",
    "    'Riverside': 'West',\n",
    "    'Lawrence': 'Midwest',\n",
    "    'St. Paul': 'Midwest',\n",
    "    'Tucson': 'West',\n",
    "    'Tempe': 'West',\n",
    "    'Potsdam': 'Northeast',\n",
    "    'Fort Collins': 'West',\n",
    "    'Hempstead': 'Northeast',\n",
    "    'Lexington': 'South',\n",
    "    'Manhattan': 'Northeast',\n",
    "    'Baton Rouge': 'South',\n",
    "    'Macon': 'South',\n",
    "    'Fayetteville': 'South',\n",
    "    'Cincinnati': 'Northeast',\n",
    "    'University': 'Northeast',\n",
    "    'Fairfax': 'Northeast',\n",
    "    'Corvallis': 'West',\n",
    "    'Pullman': 'West',\n",
    "    'Garden City': 'Northeast',\n",
    "    'San Diego': 'West',\n",
    "    'Rochester': 'Northeast',\n",
    "    'Albany': 'Northeast',\n",
    "    'Richardson': 'South',\n",
    "    'Normal': 'Midwest',\n",
    "    'Immaculata': 'Northeast',\n",
    "    'Stillwater': 'South',\n",
    "    'Merced': 'West',\n",
    "    'La Verne': 'West',\n",
    "    'Lowell': 'Northeast',\n",
    "    'Seattle': 'West',\n",
    "    'Birmingham': 'South',\n",
    "    'Kingston': 'Northeast',\n",
    "    'Tampa': 'South',\n",
    "    'La Mirada': 'West',\n",
    "    'St Louis': 'Midwest',\n",
    "    'Rolla': 'Midwest',\n",
    "    'Queens': 'Northeast',\n",
    "    'Richmond': 'South',\n",
    "    'Jackson': 'South',\n",
    "    'Honolulu': 'West',\n",
    "    'Melbourne': 'Northeast',\n",
    "    'Moscow': 'West',\n",
    "    'Louisville': 'South',\n",
    "    'Laramie': 'West',\n",
    "    'Muncie': 'Midwest',\n",
    "    'Mississippi State': 'South',\n",
    "    'Montclair': 'Northeast',\n",
    "    'Lubbock': 'South',\n",
    "    'Orlando': 'South',\n",
    "    'Albuquerque': 'West',\n",
    "    'Berrien Springs': 'Midwest',\n",
    "    'Azusa': 'West',\n",
    "    'Orono': 'Northeast',\n",
    "    'Morgantown': 'South',\n",
    "    'Chester': 'Northeast',\n",
    "    'Kent': 'Northeast',\n",
    "    'Fargo': 'Midwest',\n",
    "    'Moon Township': 'Northeast',\n",
    "    'West Hartford': 'Northeast',\n",
    "    'Bowling Green': 'Midwest',\n",
    "    'Kalamazoo': 'Midwest',\n",
    "    'Indianapolis': 'Northeast',\n",
    "    'Huntsville': 'South',\n",
    "    'Denver': 'West',\n",
    "    'Reno': 'West',\n",
    "    'Fullerton': 'West',\n",
    "    'Mount Pleasant': 'Midwest',\n",
    "    'Ruston': 'South',\n",
    "    'Brookings': 'Midwest',\n",
    "    'Buffalo': 'Northeast',\n",
    "    'Fairbanks': 'West',\n",
    "    'Charlotte': 'South',\n",
    "    'Grand Forks': 'Midwest',\n",
    "    'Vermillion': 'Midwest',\n",
    "    'Greenville': 'South',\n",
    "    'Bozeman': 'West',\n",
    "    'Norfolk': 'Northeast',\n",
    "    'Kansas City': 'Midwest',\n",
    "    'Ashland': 'Northeast',\n",
    "    'Dallas': 'South',\n",
    "    'DeKalb': 'Midwest',\n",
    "    'Ft. Lauderdale': 'South',\n",
    "    'Carbondale': 'Midwest',\n",
    "    'Missoula': 'West',\n",
    "    'Lisle': 'Midwest',\n",
    "    'Fresno': 'West',\n",
    "    'Boiling Springs': 'Northeast',\n",
    "    'Las Cruces': 'West',\n",
    "    'Winchester': 'South',\n",
    "    'Cookeville': 'South',\n",
    "    'North Dartmouth': 'Northeast',\n",
    "    'Greensboro': 'South',\n",
    "    'Hattiesburg': 'South',\n",
    "    'Logan': 'West'\n",
    "}"
   ]
  },
  {
   "cell_type": "code",
   "execution_count": 34,
   "metadata": {},
   "outputs": [
    {
     "name": "stdout",
     "output_type": "stream",
     "text": [
      "index\n",
      "0      Northeast\n",
      "1      Northeast\n",
      "2        Midwest\n",
      "3      Northeast\n",
      "4      Northeast\n",
      "         ...    \n",
      "226    Northeast\n",
      "227      Midwest\n",
      "228        South\n",
      "229        South\n",
      "230         West\n",
      "Name: Region, Length: 231, dtype: object\n"
     ]
    }
   ],
   "source": [
    "\n",
    "# List of state names\n",
    "state_names = ['Princeton', 'Cambridge', 'Chicago', 'New Haven', 'New York', 'Stanford', 'Cambridge', 'Durham', 'Philadelphia', 'Baltimore', 'Hanover', 'Pasadena', 'Evanston', 'Providence', 'Ithaca', 'Houston', 'Notre Dame', 'Nashville', 'St. Louis', 'Atlanta', 'Washington', 'Berkeley', 'Los Angeles', 'Pittsburgh', 'Los Angeles', 'Charlottesville', 'Medford', 'Ann Arbor', 'Winston-Salem', 'Chapel Hill', 'Chestnut Hill', 'Williamsburg', 'Rochester', 'Waltham', 'Atlanta', 'New York', 'Cleveland', 'Santa Barbara', 'Boston', 'Boston', 'Troy', 'New Orleans', 'Irvine', 'Bethlehem', 'Davis', 'La Jolla', 'Champaign', 'Coral Gables', 'Madison', 'Malibu', 'Gainesville', 'Villanova', 'University Park', 'Columbus', 'Seattle', 'Washington', 'Dallas', 'Athens', 'Austin', 'New York', 'West Lafayette', 'Syracuse', 'Storrs', 'College Park', 'Worcester', 'Clemson', 'New York', 'Provo', 'Pittsburgh', 'Piscataway', 'Waco', 'Hoboken', 'Minneapolis', 'Washington', 'Worcester', 'College Station', 'Amherst', 'Blacksburg', 'Oxford', 'Santa Cruz', 'Newark', 'Golden', 'East Lansing', 'Fort Worth', 'Iowa City', 'Binghamton', 'Bloomington', 'Milwaukee', 'Denver', 'San Diego', 'Tulsa', 'Tallahassee', 'Raleigh', 'Boulder', 'Burlington', 'Philadelphia', 'St. Louis', 'Stony Brook', 'Auburn', 'Chicago', 'Syracuse', 'Buffalo', 'Chicago', 'Tuscaloosa', 'Eugene', 'Knoxville', 'Rochester', 'Durham', 'San Francisco', 'Columbia', 'Ames', 'Dayton', 'Columbia', 'Lincoln', 'Norman', 'Stockton', 'Salt Lake City', 'Houghton', 'South Orange', 'Philadelphia', 'Riverside', 'Lawrence', 'St. Paul', 'Washington', 'Chicago', 'Pittsburgh', 'Washington', 'Tucson', 'Tempe', 'Potsdam', 'Fort Collins', 'New York', 'Hempstead', 'Lexington', 'Manhattan', 'Baton Rouge', 'Macon', 'Newark', 'Newark', 'Fayetteville', 'Cincinnati', 'University', 'Fairfax', 'Corvallis', 'Pullman', 'Garden City', 'Athens', 'San Diego', 'Rochester', 'Albany', 'Richardson', 'Normal', 'Immaculata', 'Stillwater', 'Merced', 'Chicago', 'La Verne', 'Lowell', 'Seattle', 'Birmingham', 'Baltimore', 'Kingston', 'Tampa', 'La Mirada', 'St Louis', 'Rolla', 'Queens', 'Richmond', 'Jackson', 'Honolulu', 'Madison', 'Melbourne', 'Moscow', 'Louisville', 'Laramie', 'Muncie', 'Nashville', 'Mississippi State', 'Montclair', 'Lubbock', 'Orlando', 'Albuquerque', 'Berrien Springs', 'Azusa', 'Orono', 'Morgantown', 'Chester', 'Kent', 'Fargo', 'New York', 'Moon Township', 'Boston', 'West Hartford', 'Bowling Green', 'Houston', 'Kalamazoo', 'Indianapolis', 'Cambridge', 'Huntsville', 'Denver', 'Reno', 'Fullerton', 'Mount Pleasant', 'Ruston', 'Brookings', 'Fairbanks', 'Charlotte', 'Grand Forks', 'Vermillion', 'Greenville', 'Bozeman', 'Norfolk', 'Kansas City', 'Ashland', 'Dallas', 'DeKalb', 'Ft. Lauderdale', 'Carbondale', 'Missoula', 'Lisle', 'Fresno', 'Boiling Springs', 'Las Cruces', 'Winchester', 'Cookeville', 'Boston', 'North Dartmouth', 'St. Louis', 'Greensboro', 'Hattiesburg', 'Logan']\n",
    "\n",
    "# Create a new column 'region'\n",
    "df_nur['Region']= [state_to_region[state_name] for state_name in state_names]\n",
    "\n",
    "# Now, 'region_column' contains the corresponding regions for each state name\n",
    "print( df_nur['Region'])"
   ]
  },
  {
   "cell_type": "code",
   "execution_count": 35,
   "metadata": {},
   "outputs": [
    {
     "data": {
      "text/html": [
       "<div>\n",
       "<style scoped>\n",
       "    .dataframe tbody tr th:only-of-type {\n",
       "        vertical-align: middle;\n",
       "    }\n",
       "\n",
       "    .dataframe tbody tr th {\n",
       "        vertical-align: top;\n",
       "    }\n",
       "\n",
       "    .dataframe thead th {\n",
       "        text-align: right;\n",
       "    }\n",
       "</style>\n",
       "<table border=\"1\" class=\"dataframe\">\n",
       "  <thead>\n",
       "    <tr style=\"text-align: right;\">\n",
       "      <th></th>\n",
       "      <th>Name</th>\n",
       "      <th>Location</th>\n",
       "      <th>Rank</th>\n",
       "      <th>Description</th>\n",
       "      <th>Tuition and fees</th>\n",
       "      <th>In-state</th>\n",
       "      <th>Undergrad Enrollment</th>\n",
       "      <th>State Name</th>\n",
       "      <th>State Code</th>\n",
       "      <th>region</th>\n",
       "      <th>Region</th>\n",
       "    </tr>\n",
       "    <tr>\n",
       "      <th>index</th>\n",
       "      <th></th>\n",
       "      <th></th>\n",
       "      <th></th>\n",
       "      <th></th>\n",
       "      <th></th>\n",
       "      <th></th>\n",
       "      <th></th>\n",
       "      <th></th>\n",
       "      <th></th>\n",
       "      <th></th>\n",
       "      <th></th>\n",
       "    </tr>\n",
       "  </thead>\n",
       "  <tbody>\n",
       "    <tr>\n",
       "      <th>0</th>\n",
       "      <td>Princeton University</td>\n",
       "      <td>Princeton, NJ</td>\n",
       "      <td>1</td>\n",
       "      <td>Princeton, the fourth-oldest college in the Un...</td>\n",
       "      <td>$45,320</td>\n",
       "      <td>NaN</td>\n",
       "      <td>5402</td>\n",
       "      <td>Princeton</td>\n",
       "      <td>NJ</td>\n",
       "      <td>Northeast</td>\n",
       "      <td>Northeast</td>\n",
       "    </tr>\n",
       "    <tr>\n",
       "      <th>1</th>\n",
       "      <td>Harvard University</td>\n",
       "      <td>Cambridge, MA</td>\n",
       "      <td>2</td>\n",
       "      <td>Harvard is located in Cambridge, Massachusetts...</td>\n",
       "      <td>$47,074</td>\n",
       "      <td>NaN</td>\n",
       "      <td>6699</td>\n",
       "      <td>Cambridge</td>\n",
       "      <td>MA</td>\n",
       "      <td>Northeast</td>\n",
       "      <td>Northeast</td>\n",
       "    </tr>\n",
       "    <tr>\n",
       "      <th>2</th>\n",
       "      <td>University of Chicago</td>\n",
       "      <td>Chicago, IL</td>\n",
       "      <td>3</td>\n",
       "      <td>The University of Chicago, situated in Chicago...</td>\n",
       "      <td>$52,491</td>\n",
       "      <td>NaN</td>\n",
       "      <td>5844</td>\n",
       "      <td>Chicago</td>\n",
       "      <td>IL</td>\n",
       "      <td>Midwest</td>\n",
       "      <td>Midwest</td>\n",
       "    </tr>\n",
       "    <tr>\n",
       "      <th>3</th>\n",
       "      <td>Yale University</td>\n",
       "      <td>New Haven, CT</td>\n",
       "      <td>3</td>\n",
       "      <td>Yale University, located in New Haven, Connect...</td>\n",
       "      <td>$49,480</td>\n",
       "      <td>NaN</td>\n",
       "      <td>5532</td>\n",
       "      <td>New Haven</td>\n",
       "      <td>CT</td>\n",
       "      <td>Northeast</td>\n",
       "      <td>Northeast</td>\n",
       "    </tr>\n",
       "    <tr>\n",
       "      <th>4</th>\n",
       "      <td>Columbia University</td>\n",
       "      <td>New York, NY</td>\n",
       "      <td>5</td>\n",
       "      <td>Columbia University, located in Manhattan's Mo...</td>\n",
       "      <td>$55,056</td>\n",
       "      <td>NaN</td>\n",
       "      <td>6102</td>\n",
       "      <td>New York</td>\n",
       "      <td>NY</td>\n",
       "      <td>Northeast</td>\n",
       "      <td>Northeast</td>\n",
       "    </tr>\n",
       "  </tbody>\n",
       "</table>\n",
       "</div>"
      ],
      "text/plain": [
       "                        Name       Location  Rank  \\\n",
       "index                                               \n",
       "0       Princeton University  Princeton, NJ     1   \n",
       "1         Harvard University  Cambridge, MA     2   \n",
       "2      University of Chicago    Chicago, IL     3   \n",
       "3            Yale University  New Haven, CT     3   \n",
       "4        Columbia University   New York, NY     5   \n",
       "\n",
       "                                             Description Tuition and fees  \\\n",
       "index                                                                       \n",
       "0      Princeton, the fourth-oldest college in the Un...         $45,320    \n",
       "1      Harvard is located in Cambridge, Massachusetts...         $47,074    \n",
       "2      The University of Chicago, situated in Chicago...         $52,491    \n",
       "3      Yale University, located in New Haven, Connect...         $49,480    \n",
       "4      Columbia University, located in Manhattan's Mo...         $55,056    \n",
       "\n",
       "      In-state  Undergrad Enrollment State Name State Code     region  \\\n",
       "index                                                                   \n",
       "0          NaN                  5402  Princeton         NJ  Northeast   \n",
       "1          NaN                  6699  Cambridge         MA  Northeast   \n",
       "2          NaN                  5844    Chicago         IL    Midwest   \n",
       "3          NaN                  5532  New Haven         CT  Northeast   \n",
       "4          NaN                  6102   New York         NY  Northeast   \n",
       "\n",
       "          Region  \n",
       "index             \n",
       "0      Northeast  \n",
       "1      Northeast  \n",
       "2        Midwest  \n",
       "3      Northeast  \n",
       "4      Northeast  "
      ]
     },
     "execution_count": 35,
     "metadata": {},
     "output_type": "execute_result"
    }
   ],
   "source": [
    "df_nur.head()"
   ]
  },
  {
   "cell_type": "code",
   "execution_count": null,
   "metadata": {},
   "outputs": [],
   "source": []
  },
  {
   "cell_type": "code",
   "execution_count": null,
   "metadata": {},
   "outputs": [],
   "source": []
  },
  {
   "cell_type": "code",
   "execution_count": null,
   "metadata": {},
   "outputs": [],
   "source": []
  },
  {
   "cell_type": "code",
   "execution_count": null,
   "metadata": {},
   "outputs": [],
   "source": []
  },
  {
   "cell_type": "code",
   "execution_count": null,
   "metadata": {},
   "outputs": [],
   "source": []
  },
  {
   "cell_type": "code",
   "execution_count": null,
   "metadata": {},
   "outputs": [],
   "source": [
    "\n",
    "\n",
    "\n",
    "\n"
   ]
  },
  {
   "cell_type": "code",
   "execution_count": null,
   "metadata": {},
   "outputs": [],
   "source": []
  }
 ],
 "metadata": {
  "kernelspec": {
   "display_name": "Python 3 (ipykernel)",
   "language": "python",
   "name": "python3"
  },
  "language_info": {
   "codemirror_mode": {
    "name": "ipython",
    "version": 3
   },
   "file_extension": ".py",
   "mimetype": "text/x-python",
   "name": "python",
   "nbconvert_exporter": "python",
   "pygments_lexer": "ipython3",
   "version": "3.11.4"
  }
 },
 "nbformat": 4,
 "nbformat_minor": 2
}
